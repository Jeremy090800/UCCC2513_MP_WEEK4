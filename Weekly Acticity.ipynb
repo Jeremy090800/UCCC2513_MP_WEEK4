{
 "cells": [
  {
   "cell_type": "markdown",
   "id": "40a7ac1f",
   "metadata": {},
   "source": [
    "## Weekly activity\n",
    "1. _Suggest two ways and write codes to display two images simultaneously_. You can use any image snapped from your handphone,  downloaded from internet or images from week 4 materials on MS teams. The two images are a color image and its corresponding grayscale image. \n",
    "2. Write codes that performs the following:\n",
    "    - Load the video “img_pexels.mp4” into the Python environment, *resize* it and display the videos with smaller frames (The frames can be of any size, as long as it is smaller). You can specify an arbitrary frame rate.\n",
    "    - Save it as a separate files: “smaller_img_pexels.avi” or \"smaller_img_pexels.mp4\"\n",
    "3. Create a **random noise color and grayscale** image. You can set a custom width and height. (Hint: use Numpy functions like `np.array` and `np.reshape`.)\n",
    "4. Extract the region of interest (flower) from the 'flower.jfif'.\n",
    "5. Enlarge the image \"dog.jfif\" by using different techniques: 1) Linear interpolation, 2) Cubic interpolation and 3) nearest neighbor interpolation. Comment on the upscaled of all the outputs."
   ]
  },
  {
   "cell_type": "code",
   "execution_count": 1,
   "id": "c6cd8b9b",
   "metadata": {},
   "outputs": [
    {
     "data": {
      "text/plain": [
       "True"
      ]
     },
     "execution_count": 1,
     "metadata": {},
     "output_type": "execute_result"
    }
   ],
   "source": [
    "#import open and numpy to the workplace\n",
    "import sys\n",
    "#python 3.7 is required\n",
    "assert sys.version_info >= (3,7)\n",
    "\n",
    "import cv2 as cv\n",
    "import numpy as np\n",
    "\n",
    "#For reproducibility\n",
    "np.random.seed(99)\n",
    "\n",
    "#make sure that optimisation is enabled\n",
    "if not cv.useOptimized():\n",
    "    cv.setUseOptimized(True)\n",
    "    \n",
    "cv.useOptimized()"
   ]
  },
  {
   "cell_type": "markdown",
   "id": "333c752e",
   "metadata": {},
   "source": [
    "# Answer for question 1"
   ]
  },
  {
   "cell_type": "code",
   "execution_count": 6,
   "id": "b6bfd779",
   "metadata": {},
   "outputs": [],
   "source": [
    "# Question 1 method 1\n",
    "\n",
    "skyline_img = cv.imread('skyline.jpeg')\n",
    "skyline_img_grayscale = cv.imread('skyline.jpeg',0)\n",
    "\n",
    "cv.imshow(\"original\",skyline_img)\n",
    "cv.imshow(\"grayscale\",skyline_img_grayscale)\n",
    "\n",
    "cv.waitKey(0)    \n",
    "cv.destroyAllWindows()"
   ]
  },
  {
   "cell_type": "code",
   "execution_count": 8,
   "id": "9c29d274",
   "metadata": {},
   "outputs": [],
   "source": [
    "# Question 1 method 2\n",
    "\n",
    "skyline_img = cv.imread('skyline.jpeg')\n",
    "skyline_img_grayscale = cv.cvtColor(skyline_img,cv.COLOR_BGR2GRAY)\n",
    "\n",
    "cv.imshow(\"original\",skyline_img)\n",
    "cv.imshow(\"grayscale\",skyline_img_grayscale)\n",
    "\n",
    "\n",
    "cv.waitKey(0)    \n",
    "cv.destroyAllWindows()"
   ]
  },
  {
   "cell_type": "markdown",
   "id": "472928f5",
   "metadata": {},
   "source": [
    "# Answer for question 2"
   ]
  },
  {
   "cell_type": "code",
   "execution_count": 10,
   "id": "20506007",
   "metadata": {},
   "outputs": [],
   "source": [
    "\n",
    "# Create a VideoCapture object\n",
    "cap = cv.VideoCapture('img_pexels.mp4')\n",
    "\n",
    "#define the codec and create VideoWriter object\n",
    "fourcc = cv.VideoWriter_fourcc(*'XVID')\n",
    "fps = 20\n",
    "width = int(cap.get(3))\n",
    "height = int(cap.get(4))\n",
    "output = cv.VideoWriter('smaller_img_pexels.avi', fourcc, fps, (width, height))\n",
    "\n",
    "\n",
    "# Check if the object has been created successfully\n",
    "if not cap.isOpened():\n",
    "    print(\"Unable to create video\")\n",
    "\n",
    "# Read until the video is completed.\n",
    "while cap.isOpened():\n",
    "    ret, frame = cap.read()\n",
    "    \n",
    "    # if frame is read then ret is True\n",
    "    if not ret:\n",
    "        print(\"Can't receive frame.\")\n",
    "        break\n",
    "        \n",
    "    \n",
    "    output.write(frame)\n",
    "    \n",
    "    cv.namedWindow('frame',cv.WINDOW_NORMAL)\n",
    "    cv.imshow('frame', frame)\n",
    "    # Press Esc key to exit (27 is ASCII code for Esc). cv.waitKey() returns 32 bit integer values\n",
    "    if cv.waitKey(1) & 0xFF == 27:\n",
    "        break\n",
    "\n",
    "# destroy the constructor\n",
    "cap.release()\n",
    "output.release()\n",
    "cv.destroyAllWindows()"
   ]
  },
  {
   "cell_type": "markdown",
   "id": "9d332c15",
   "metadata": {},
   "source": [
    "# Answer for question 3"
   ]
  },
  {
   "cell_type": "code",
   "execution_count": 24,
   "id": "d2be3f8b",
   "metadata": {},
   "outputs": [],
   "source": [
    "from PIL import Image\n",
    "\n",
    "array = np.random.random((720,1080))\n",
    "\n",
    "img = Image.fromarray(array,'L')\n",
    "img.show()\n",
    "\n",
    "cv.waitKey(0)    \n",
    "cv.destroyAllWindows()"
   ]
  },
  {
   "cell_type": "markdown",
   "id": "04a16cfe",
   "metadata": {},
   "source": [
    "# Answer for question 4"
   ]
  },
  {
   "cell_type": "code",
   "execution_count": 26,
   "id": "f48f4161",
   "metadata": {},
   "outputs": [
    {
     "name": "stdout",
     "output_type": "stream",
     "text": [
      "(183, 275, 3)\n"
     ]
    }
   ],
   "source": [
    "#load the flower picture\n",
    "flower = cv.imread('flower.jfif')\n",
    "\n",
    "print(flower.shape)\n",
    "\n",
    "edited_flower = flower[20:125,80:180,0:3]\n",
    "flower = cv.imshow('original',edited_flower)\n",
    "\n",
    "cv.waitKey(0)\n",
    "cv.destroyAllWindows()"
   ]
  },
  {
   "cell_type": "markdown",
   "id": "1030302b",
   "metadata": {},
   "source": [
    "# Answer for question 5"
   ]
  },
  {
   "cell_type": "code",
   "execution_count": 2,
   "id": "bcb660d9",
   "metadata": {},
   "outputs": [
    {
     "data": {
      "text/plain": [
       "True"
      ]
     },
     "execution_count": 2,
     "metadata": {},
     "output_type": "execute_result"
    }
   ],
   "source": [
    "#import open and numpy to the workplace\n",
    "import sys\n",
    "#python 3.7 is required\n",
    "assert sys.version_info >= (3,7)\n",
    "\n",
    "import cv2 as cv\n",
    "import numpy as np\n",
    "\n",
    "#For reproducibility\n",
    "np.random.seed(99)\n",
    "\n",
    "#make sure that optimisation is enabled\n",
    "if not cv.useOptimized():\n",
    "    cv.setUseOptimized(True)\n",
    "    \n",
    "cv.useOptimized()"
   ]
  },
  {
   "cell_type": "code",
   "execution_count": 3,
   "id": "ffe373b1",
   "metadata": {},
   "outputs": [],
   "source": [
    "#load the original file\n",
    "dog_img = cv.imread('dog.jfif')\n",
    "cv.imshow('original',dog_img)\n",
    "\n",
    "cv.waitKey(0)\n",
    "cv.destroyAllWindows()"
   ]
  },
  {
   "cell_type": "code",
   "execution_count": 11,
   "id": "b71a14d8",
   "metadata": {},
   "outputs": [
    {
     "name": "stdout",
     "output_type": "stream",
     "text": [
      "121 µs ± 996 ns per loop (mean ± std. dev. of 7 runs, 10,000 loops each)\n"
     ]
    }
   ],
   "source": [
    "#Linear Interpolation\n",
    "dog_img_resize_linear = cv.resize(dog_img, None, fx = 1.5, fy = 1.5, interpolation = cv.INTER_LINEAR)\n",
    "cv.imshow('Upsize_Linear', dog_img_resize_linear)\n",
    "\n",
    "cv.waitKey(0)\n",
    "cv.destroyAllWindows()"
   ]
  },
  {
   "cell_type": "code",
   "execution_count": 9,
   "id": "84f17f0c",
   "metadata": {},
   "outputs": [
    {
     "name": "stdout",
     "output_type": "stream",
     "text": [
      "240 µs ± 2.4 µs per loop (mean ± std. dev. of 7 runs, 1,000 loops each)\n"
     ]
    }
   ],
   "source": [
    "#Cubic interpolation\n",
    "dog_img_resize_cubic = cv.resize(dog_img, None, fx = 1.5, fy = 1.5, interpolation = cv.INTER_CUBIC)\n",
    "cv.imshow('Upsize_Cubic',dog_img_resize_cubic)\n",
    "\n",
    "cv.waitKey(0)\n",
    "cv.destroyAllWindows()"
   ]
  },
  {
   "cell_type": "code",
   "execution_count": 12,
   "id": "2b512518",
   "metadata": {},
   "outputs": [
    {
     "name": "stdout",
     "output_type": "stream",
     "text": [
      "67.7 µs ± 1.67 µs per loop (mean ± std. dev. of 7 runs, 10,000 loops each)\n"
     ]
    }
   ],
   "source": [
    "#nerest neightbor interpolation\n",
    "dog_img_resize_nearest = cv.resize(dog_img, None, fx = 1.5, fy = 1.5, interpolation = cv.INTER_NEAREST)\n",
    "cv.imshow('Upsize_Nearest',dog_img_resize_nearest)\n",
    "\n",
    "cv.waitKey(0)\n",
    "cv.destroyAllWindows()"
   ]
  },
  {
   "attachments": {},
   "cell_type": "markdown",
   "id": "b6c70291",
   "metadata": {},
   "source": [
    "## Comment on the upscaled of all the outputs\n",
    "\n",
    "| Criteria             | Liner Interpolation| Cubic Interpolation| Nearest Neighbor Interpolation |\n",
    "| :---                 |    :----:          |          :----:    |                           ----:|\n",
    "| Processing time      | medium             | highest            |             lowest             |\n",
    "| File size            | medium             | largest            |            smallest            |\n",
    "\n",
    "\n",
    "**Description of the above table**.\n",
    "\n",
    "1. Processing time **(Nearest < Linear < Cubic)**\n",
    "\n",
    "Cubic Interpolation has the required the highest processing time followed by Linear Interpoaltion and Nearest Neightbor Interpoaltion. Cubic Interpolation has the most complex computation among the three Interpolation.\n",
    "\n",
    "<img title=\"a title\" alt=\"Alt text\" src=\"Processing time.PNG\">\n",
    "***by using %timeit function we are able to show the computational time of each interpolation. Linear required 121 microsecond, cubic required 240 microsecond, nearest required 67.7 microsecond***.\n",
    "\n",
    "\n",
    "2. File size **(Cubic > Linear > Nearest)**\n",
    "As aforementioned, Cubic Interpolation has the most complex computation but it also produce the image with highest quality among the other two.\n",
    "\n",
    "<img title=\"a title\" alt=\"Alt text\" src=\"File_size.PNG\">\n",
    "***By saving the outputs of all the interpolations, we can find that the file sizes are different by checking the \"properties\" of the files. In which, Cubic have the largest file size(), Linear is the one in the middle () and Nearest has the smallest file size(). The three files hve the same pixel count, but the Nearest is compressed into fewer bytes, hence the smallest file size. ***\n",
    "\n"
   ]
  }
 ],
 "metadata": {
  "kernelspec": {
   "display_name": "Python 3 (ipykernel)",
   "language": "python",
   "name": "python3"
  },
  "language_info": {
   "codemirror_mode": {
    "name": "ipython",
    "version": 3
   },
   "file_extension": ".py",
   "mimetype": "text/x-python",
   "name": "python",
   "nbconvert_exporter": "python",
   "pygments_lexer": "ipython3",
   "version": "3.9.12"
  }
 },
 "nbformat": 4,
 "nbformat_minor": 5
}
